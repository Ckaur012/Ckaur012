{
  "cells": [
    {
      "cell_type": "markdown",
      "metadata": {
        "id": "view-in-github",
        "colab_type": "text"
      },
      "source": [
        "<a href=\"https://colab.research.google.com/github/Ckaur012/Ckaur012/blob/main/KDTree.ipynb\" target=\"_parent\"><img src=\"https://colab.research.google.com/assets/colab-badge.svg\" alt=\"Open In Colab\"/></a>"
      ]
    },
    {
      "cell_type": "markdown",
      "metadata": {
        "id": "s0rsezxVdBZi"
      },
      "source": [
        "# KDTree Algorithm"
      ]
    },
    {
      "cell_type": "code",
      "execution_count": null,
      "metadata": {
        "ExecuteTime": {
          "end_time": "2022-07-30T11:04:56.475471Z",
          "start_time": "2022-07-30T11:04:51.729199Z"
        },
        "id": "1c-Y3gJMdBZk"
      },
      "outputs": [],
      "source": [
        "import pandas as pd\n",
        "import numpy as np"
      ]
    },
    {
      "cell_type": "markdown",
      "metadata": {
        "id": "tjB_rdg7dBZl"
      },
      "source": [
        "# Helper Functions"
      ]
    },
    {
      "cell_type": "code",
      "execution_count": null,
      "metadata": {
        "ExecuteTime": {
          "end_time": "2022-07-30T12:03:05.253038Z",
          "start_time": "2022-07-30T12:03:05.234799Z"
        },
        "id": "TURwgrqcdBZl"
      },
      "outputs": [],
      "source": [
        "class Node:\n",
        "    def __init__(self,median,axis,data,leftchild,rightchild):\n",
        "        self.median = median\n",
        "        self.axis = axis\n",
        "        self.data = data\n",
        "        self.leftchild = leftchild\n",
        "        self.rightchild = rightchild"
      ]
    },
    {
      "cell_type": "code",
      "execution_count": null,
      "metadata": {
        "ExecuteTime": {
          "end_time": "2022-07-30T13:19:13.135033Z",
          "start_time": "2022-07-30T13:19:13.103888Z"
        },
        "code_folding": [
          4
        ],
        "id": "ARAsq4DFdBZl"
      },
      "outputs": [],
      "source": [
        "class KDTree:\n",
        "    def __init__(self,max_depth):\n",
        "        self.max_depth = max_depth\n",
        "\n",
        "    def _get_axis(self,data):\n",
        "        dim = len(data[0])\n",
        "        var_arr = []\n",
        "        data_arr = np.array(data)\n",
        "        for i in range(dim):\n",
        "            var_arr.append(np.var(data_arr[:,i]))\n",
        "        idx = np.argmax(var_arr)\n",
        "        return idx\n",
        "\n",
        "    def _tree(self,data,current_depth = 0):\n",
        "        if current_depth>self.max_depth:\n",
        "            return Node(None,None,None,None,None)\n",
        "        dim = len(data[0]) #### data in form of [[1,2,3],[4,5,6]....] list of lists and all points have same dim\n",
        "        axis = current_depth%dim ### get_axis function\n",
        "\n",
        "        sort_data = data.sort(key = lambda x:x[axis])\n",
        "        current_median = len(data)//2\n",
        "\n",
        "        return Node(current_median,\n",
        "                    axis,\n",
        "                    data,\n",
        "                    self._tree(data[:current_median],current_depth+1),\n",
        "                    self._tree(data[current_median:],current_depth+1))\n",
        "    \n",
        "    def maketree(self):\n",
        "        self.root_node = self._tree(data)\n",
        "        \n",
        "    def _get_bin(self,data_point):\n",
        "        c_node = self.root_node\n",
        "        \n",
        "        for i in range(self.max_depth):\n",
        "            c_axis = c_node.axis\n",
        "            if data_point[c_axis]<c_node.median: ####### ?\n",
        "                c_node = c_node.leftchild\n",
        "            else:\n",
        "                c_node = c_node.rightchild\n",
        "        return c_node.data\n",
        "\n",
        "    def find_bin(self,data_point):\n",
        "        bin_data = self._get_bin(data_point) \n",
        "        return bin_data"
      ]
    },
    {
      "cell_type": "code",
      "execution_count": null,
      "metadata": {
        "ExecuteTime": {
          "end_time": "2022-07-30T13:19:14.872749Z",
          "start_time": "2022-07-30T13:19:14.866242Z"
        },
        "id": "jzU8FUfxdBZm"
      },
      "outputs": [],
      "source": [
        "data = [(7, 2), (5, 4), (9, 6), (4, 7), (8, 1), (2, 3)]\n",
        "tree = KDTree(2)       "
      ]
    },
    {
      "cell_type": "code",
      "execution_count": null,
      "metadata": {
        "ExecuteTime": {
          "end_time": "2022-07-30T13:07:59.684138Z",
          "start_time": "2022-07-30T13:07:59.678675Z"
        },
        "id": "ImL3HzBndBZm"
      },
      "outputs": [],
      "source": [
        "# data = []"
      ]
    },
    {
      "cell_type": "code",
      "execution_count": null,
      "metadata": {
        "ExecuteTime": {
          "end_time": "2022-07-30T13:19:15.993734Z",
          "start_time": "2022-07-30T13:19:15.986843Z"
        },
        "id": "4hnMzIt8dBZm"
      },
      "outputs": [],
      "source": [
        "tree.maketree()"
      ]
    },
    {
      "cell_type": "code",
      "execution_count": null,
      "metadata": {
        "ExecuteTime": {
          "end_time": "2022-07-30T13:19:18.360908Z",
          "start_time": "2022-07-30T13:19:18.308591Z"
        },
        "collapsed": true,
        "id": "CVMU-eRcdBZn",
        "outputId": "dd484e84-c17f-41eb-851c-8c91cd3a26fc"
      },
      "outputs": [
        {
          "name": "stdout",
          "output_type": "stream",
          "text": [
            "########################################################################################\n",
            "complete data  [(2, 3), (4, 7), (5, 4), (7, 2), (8, 1), (9, 6)] \n",
            "\n",
            "data median point  (7, 2)  Median axis  0 \n",
            "\n",
            "leftchild  [(2, 3), (5, 4), (4, 7)] \n",
            "\n",
            "rightchild  [(8, 1), (7, 2), (9, 6)] \n",
            "\n",
            "########################################################################################\n",
            "complete data  [(2, 3), (5, 4), (4, 7)] \n",
            "\n",
            "data median point  (5, 4)  Median axis  1 \n",
            "\n",
            "leftchild  [(2, 3)] \n",
            "\n",
            "rightchild  [(4, 7), (5, 4)] \n",
            "\n",
            "########################################################################################\n",
            "complete data  [(2, 3)] \n",
            "\n",
            "data median point  (2, 3)  Median axis  0 \n",
            "\n",
            "leftchild  None \n",
            "\n",
            "rightchild  None \n",
            "\n",
            "########################################################################################\n",
            "complete data  [(4, 7), (5, 4)] \n",
            "\n",
            "data median point  (5, 4)  Median axis  0 \n",
            "\n",
            "leftchild  None \n",
            "\n",
            "rightchild  None \n",
            "\n",
            "########################################################################################\n",
            "complete data  [(8, 1), (7, 2), (9, 6)] \n",
            "\n",
            "data median point  (7, 2)  Median axis  1 \n",
            "\n",
            "leftchild  [(8, 1)] \n",
            "\n",
            "rightchild  [(7, 2), (9, 6)] \n",
            "\n",
            "########################################################################################\n",
            "complete data  [(8, 1)] \n",
            "\n",
            "data median point  (8, 1)  Median axis  0 \n",
            "\n",
            "leftchild  None \n",
            "\n",
            "rightchild  None \n",
            "\n",
            "########################################################################################\n",
            "complete data  [(7, 2), (9, 6)] \n",
            "\n",
            "data median point  (9, 6)  Median axis  0 \n",
            "\n",
            "leftchild  None \n",
            "\n",
            "rightchild  None \n",
            "\n"
          ]
        }
      ],
      "source": [
        "node_list = []\n",
        "node_list.append(tree.root_node)\n",
        "while len(node_list)>0:\n",
        "    ca = node_list.pop()\n",
        "    if ca.leftchild!=None and ca.rightchild!=None:\n",
        "        print('########################################################################################')\n",
        "        print('complete data ',ca.data,'\\n')\n",
        "        print('data median point ',ca.data[ca.median],' Median axis ',ca.axis,'\\n')\n",
        "        print('leftchild ',ca.leftchild.data,'\\n')\n",
        "        print('rightchild ',ca.rightchild.data,'\\n')\n",
        "        node_list.append(ca.rightchild)\n",
        "        node_list.append(ca.leftchild)"
      ]
    },
    {
      "cell_type": "code",
      "execution_count": null,
      "metadata": {
        "ExecuteTime": {
          "end_time": "2022-07-30T13:19:21.548543Z",
          "start_time": "2022-07-30T13:19:21.531819Z"
        },
        "id": "Thf6Sdf2dBZo",
        "outputId": "5231bb15-3159-48eb-cd43-e158e90e9cc5"
      },
      "outputs": [
        {
          "data": {
            "text/plain": [
              "[(4, 7), (5, 4)]"
            ]
          },
          "execution_count": 73,
          "metadata": {},
          "output_type": "execute_result"
        }
      ],
      "source": [
        "tree.find_bin([1,2])"
      ]
    },
    {
      "cell_type": "code",
      "execution_count": null,
      "metadata": {
        "id": "DmHKV-mBdBZo"
      },
      "outputs": [],
      "source": []
    }
  ],
  "metadata": {
    "kernelspec": {
      "display_name": "Python 3 (ipykernel)",
      "language": "python",
      "name": "python3"
    },
    "language_info": {
      "codemirror_mode": {
        "name": "ipython",
        "version": 3
      },
      "file_extension": ".py",
      "mimetype": "text/x-python",
      "name": "python",
      "nbconvert_exporter": "python",
      "pygments_lexer": "ipython3",
      "version": "3.9.7"
    },
    "toc": {
      "base_numbering": 1,
      "nav_menu": {},
      "number_sections": true,
      "sideBar": true,
      "skip_h1_title": false,
      "title_cell": "Table of Contents",
      "title_sidebar": "Contents",
      "toc_cell": false,
      "toc_position": {},
      "toc_section_display": true,
      "toc_window_display": false
    },
    "colab": {
      "provenance": [],
      "include_colab_link": true
    }
  },
  "nbformat": 4,
  "nbformat_minor": 0
}