{
  "cells": [
    {
      "cell_type": "markdown",
      "metadata": {
        "id": "view-in-github",
        "colab_type": "text"
      },
      "source": [
        "<a href=\"https://colab.research.google.com/github/Ckaur012/Ckaur012/blob/main/LDA.ipynb\" target=\"_parent\"><img src=\"https://colab.research.google.com/assets/colab-badge.svg\" alt=\"Open In Colab\"/></a>"
      ]
    },
    {
      "cell_type": "code",
      "execution_count": null,
      "id": "4d1a8710",
      "metadata": {
        "id": "4d1a8710"
      },
      "outputs": [],
      "source": [
        "from sklearn.datasets import load_wine ## Data set import\n",
        "import pandas as pd\n",
        "# for data frame manipulation\n",
        "import numpy as np\n",
        "# for numerical analysis\n",
        "from matplotlib import pyplot as plt# for visualization\n",
        "from sklearn.preprocessing import LabelEncoder # for encoding of label in our dataset\n",
        "from sklearn.ensemble import RandomForestClassifier\n",
        "#for final classification\n",
        "from sklearn.model_selection import train_test_split\n",
        "# for spliting test and train data\n",
        "from sklearn.metrics import confusion_matrix # for confusion matrix"
      ]
    },
    {
      "cell_type": "markdown",
      "id": "34d246bc",
      "metadata": {
        "id": "34d246bc"
      },
      "source": [
        "Step#2 Loading the dataset and separating the dependent variable and independent variable in variables named as “dependentVaraible” and “independentVariables” respectively"
      ]
    },
    {
      "cell_type": "code",
      "execution_count": null,
      "id": "0d38e331",
      "metadata": {
        "id": "0d38e331"
      },
      "outputs": [],
      "source": [
        "winedataset = load_wine()\n",
        "independentVariables=pd.DataFrame(winedataset.data,columns=winedataset.feature_names)\n",
        "dependentVariable = pd.Categorical.from_codes (winedataset.target, winedataset.target_names)"
      ]
    },
    {
      "cell_type": "code",
      "execution_count": null,
      "id": "82a1e375",
      "metadata": {
        "id": "82a1e375",
        "outputId": "f616b5ef-8f4a-4e1d-d3f3-96e9e494f9b6"
      },
      "outputs": [
        {
          "data": {
            "text/html": [
              "<div>\n",
              "<style scoped>\n",
              "    .dataframe tbody tr th:only-of-type {\n",
              "        vertical-align: middle;\n",
              "    }\n",
              "\n",
              "    .dataframe tbody tr th {\n",
              "        vertical-align: top;\n",
              "    }\n",
              "\n",
              "    .dataframe thead th {\n",
              "        text-align: right;\n",
              "    }\n",
              "</style>\n",
              "<table border=\"1\" class=\"dataframe\">\n",
              "  <thead>\n",
              "    <tr style=\"text-align: right;\">\n",
              "      <th></th>\n",
              "      <th>alcohol</th>\n",
              "      <th>malic_acid</th>\n",
              "      <th>ash</th>\n",
              "      <th>alcalinity_of_ash</th>\n",
              "      <th>magnesium</th>\n",
              "      <th>total_phenols</th>\n",
              "      <th>flavanoids</th>\n",
              "      <th>nonflavanoid_phenols</th>\n",
              "      <th>proanthocyanins</th>\n",
              "      <th>color_intensity</th>\n",
              "      <th>hue</th>\n",
              "      <th>od280/od315_of_diluted_wines</th>\n",
              "      <th>proline</th>\n",
              "    </tr>\n",
              "  </thead>\n",
              "  <tbody>\n",
              "    <tr>\n",
              "      <th>0</th>\n",
              "      <td>14.23</td>\n",
              "      <td>1.71</td>\n",
              "      <td>2.43</td>\n",
              "      <td>15.6</td>\n",
              "      <td>127.0</td>\n",
              "      <td>2.80</td>\n",
              "      <td>3.06</td>\n",
              "      <td>0.28</td>\n",
              "      <td>2.29</td>\n",
              "      <td>5.64</td>\n",
              "      <td>1.04</td>\n",
              "      <td>3.92</td>\n",
              "      <td>1065.0</td>\n",
              "    </tr>\n",
              "    <tr>\n",
              "      <th>1</th>\n",
              "      <td>13.20</td>\n",
              "      <td>1.78</td>\n",
              "      <td>2.14</td>\n",
              "      <td>11.2</td>\n",
              "      <td>100.0</td>\n",
              "      <td>2.65</td>\n",
              "      <td>2.76</td>\n",
              "      <td>0.26</td>\n",
              "      <td>1.28</td>\n",
              "      <td>4.38</td>\n",
              "      <td>1.05</td>\n",
              "      <td>3.40</td>\n",
              "      <td>1050.0</td>\n",
              "    </tr>\n",
              "    <tr>\n",
              "      <th>2</th>\n",
              "      <td>13.16</td>\n",
              "      <td>2.36</td>\n",
              "      <td>2.67</td>\n",
              "      <td>18.6</td>\n",
              "      <td>101.0</td>\n",
              "      <td>2.80</td>\n",
              "      <td>3.24</td>\n",
              "      <td>0.30</td>\n",
              "      <td>2.81</td>\n",
              "      <td>5.68</td>\n",
              "      <td>1.03</td>\n",
              "      <td>3.17</td>\n",
              "      <td>1185.0</td>\n",
              "    </tr>\n",
              "    <tr>\n",
              "      <th>3</th>\n",
              "      <td>14.37</td>\n",
              "      <td>1.95</td>\n",
              "      <td>2.50</td>\n",
              "      <td>16.8</td>\n",
              "      <td>113.0</td>\n",
              "      <td>3.85</td>\n",
              "      <td>3.49</td>\n",
              "      <td>0.24</td>\n",
              "      <td>2.18</td>\n",
              "      <td>7.80</td>\n",
              "      <td>0.86</td>\n",
              "      <td>3.45</td>\n",
              "      <td>1480.0</td>\n",
              "    </tr>\n",
              "    <tr>\n",
              "      <th>4</th>\n",
              "      <td>13.24</td>\n",
              "      <td>2.59</td>\n",
              "      <td>2.87</td>\n",
              "      <td>21.0</td>\n",
              "      <td>118.0</td>\n",
              "      <td>2.80</td>\n",
              "      <td>2.69</td>\n",
              "      <td>0.39</td>\n",
              "      <td>1.82</td>\n",
              "      <td>4.32</td>\n",
              "      <td>1.04</td>\n",
              "      <td>2.93</td>\n",
              "      <td>735.0</td>\n",
              "    </tr>\n",
              "  </tbody>\n",
              "</table>\n",
              "</div>"
            ],
            "text/plain": [
              "   alcohol  malic_acid   ash  alcalinity_of_ash  magnesium  total_phenols  \\\n",
              "0    14.23        1.71  2.43               15.6      127.0           2.80   \n",
              "1    13.20        1.78  2.14               11.2      100.0           2.65   \n",
              "2    13.16        2.36  2.67               18.6      101.0           2.80   \n",
              "3    14.37        1.95  2.50               16.8      113.0           3.85   \n",
              "4    13.24        2.59  2.87               21.0      118.0           2.80   \n",
              "\n",
              "   flavanoids  nonflavanoid_phenols  proanthocyanins  color_intensity   hue  \\\n",
              "0        3.06                  0.28             2.29             5.64  1.04   \n",
              "1        2.76                  0.26             1.28             4.38  1.05   \n",
              "2        3.24                  0.30             2.81             5.68  1.03   \n",
              "3        3.49                  0.24             2.18             7.80  0.86   \n",
              "4        2.69                  0.39             1.82             4.32  1.04   \n",
              "\n",
              "   od280/od315_of_diluted_wines  proline  \n",
              "0                          3.92   1065.0  \n",
              "1                          3.40   1050.0  \n",
              "2                          3.17   1185.0  \n",
              "3                          3.45   1480.0  \n",
              "4                          2.93    735.0  "
            ]
          },
          "execution_count": 8,
          "metadata": {},
          "output_type": "execute_result"
        }
      ],
      "source": [
        "independentVariables.head()"
      ]
    },
    {
      "cell_type": "code",
      "execution_count": null,
      "id": "9e7c6aa6",
      "metadata": {
        "id": "9e7c6aa6",
        "outputId": "e5a1b078-b99c-477f-bcb2-373513b3b92a"
      },
      "outputs": [
        {
          "name": "stdout",
          "output_type": "stream",
          "text": [
            "(178, 13)\n"
          ]
        }
      ],
      "source": [
        "print (independentVariables.shape)"
      ]
    },
    {
      "cell_type": "markdown",
      "id": "de5b07ce",
      "metadata": {
        "id": "de5b07ce"
      },
      "source": [
        "We have 178 records captured against 13 attributes."
      ]
    },
    {
      "cell_type": "code",
      "execution_count": null,
      "id": "749e2af2",
      "metadata": {
        "id": "749e2af2",
        "outputId": "c7bbf5bd-1614-4a81-f58e-0bbc92077d4c"
      },
      "outputs": [
        {
          "name": "stdout",
          "output_type": "stream",
          "text": [
            "<class 'pandas.core.frame.DataFrame'>\n",
            "RangeIndex: 178 entries, 0 to 177\n",
            "Data columns (total 13 columns):\n",
            " #   Column                        Non-Null Count  Dtype  \n",
            "---  ------                        --------------  -----  \n",
            " 0   alcohol                       178 non-null    float64\n",
            " 1   malic_acid                    178 non-null    float64\n",
            " 2   ash                           178 non-null    float64\n",
            " 3   alcalinity_of_ash             178 non-null    float64\n",
            " 4   magnesium                     178 non-null    float64\n",
            " 5   total_phenols                 178 non-null    float64\n",
            " 6   flavanoids                    178 non-null    float64\n",
            " 7   nonflavanoid_phenols          178 non-null    float64\n",
            " 8   proanthocyanins               178 non-null    float64\n",
            " 9   color_intensity               178 non-null    float64\n",
            " 10  hue                           178 non-null    float64\n",
            " 11  od280/od315_of_diluted_wines  178 non-null    float64\n",
            " 12  proline                       178 non-null    float64\n",
            "dtypes: float64(13)\n",
            "memory usage: 18.2 KB\n",
            "None\n"
          ]
        }
      ],
      "source": [
        "print (independentVariables.info())"
      ]
    },
    {
      "cell_type": "markdown",
      "id": "d5f1e2d9",
      "metadata": {
        "id": "d5f1e2d9"
      },
      "source": [
        "We have 13 columns in the dataset. We could infer that:\n",
        "\n",
        "All the features and numeric type and having their respective values in float\n",
        "All the 13 features have 178 records and that is enough to conclude that we don’t have any missing values in any of the independent features."
      ]
    },
    {
      "cell_type": "markdown",
      "id": "c694fa13",
      "metadata": {
        "id": "c694fa13"
      },
      "source": [
        "# Let’s look into the target variable "
      ]
    },
    {
      "cell_type": "code",
      "execution_count": null,
      "id": "de1ac779",
      "metadata": {
        "id": "de1ac779",
        "outputId": "1bd61237-6a51-4a70-ea20-5447e527ccb4"
      },
      "outputs": [
        {
          "name": "stdout",
          "output_type": "stream",
          "text": [
            "Dependent Variable ['class_0' 'class_1' 'class_2']\n"
          ]
        }
      ],
      "source": [
        "print ( \"Dependent Variable\",winedataset.target_names)"
      ]
    },
    {
      "cell_type": "markdown",
      "id": "30ac4bdd",
      "metadata": {
        "id": "30ac4bdd"
      },
      "source": [
        "We can see that our dependentVaraible has got three classes, ‘class_0′ ,’class_1′  and ‘class_2’.We have three class classification problems."
      ]
    },
    {
      "cell_type": "markdown",
      "id": "abde59b9",
      "metadata": {
        "id": "abde59b9"
      },
      "source": [
        "# Let’s now create data frame having dependent variable and independent variables together"
      ]
    },
    {
      "cell_type": "code",
      "execution_count": null,
      "id": "d12ea154",
      "metadata": {
        "id": "d12ea154"
      },
      "outputs": [],
      "source": [
        "wineDataFrame = independentVariables.join(pd.Series(dependentVariable, name='class'))"
      ]
    },
    {
      "cell_type": "code",
      "execution_count": null,
      "id": "84ebc481",
      "metadata": {
        "id": "84ebc481",
        "outputId": "48071621-9f7a-4f9b-ad5b-a3366f557ebc"
      },
      "outputs": [
        {
          "data": {
            "text/html": [
              "<div>\n",
              "<style scoped>\n",
              "    .dataframe tbody tr th:only-of-type {\n",
              "        vertical-align: middle;\n",
              "    }\n",
              "\n",
              "    .dataframe tbody tr th {\n",
              "        vertical-align: top;\n",
              "    }\n",
              "\n",
              "    .dataframe thead th {\n",
              "        text-align: right;\n",
              "    }\n",
              "</style>\n",
              "<table border=\"1\" class=\"dataframe\">\n",
              "  <thead>\n",
              "    <tr style=\"text-align: right;\">\n",
              "      <th></th>\n",
              "      <th>alcohol</th>\n",
              "      <th>malic_acid</th>\n",
              "      <th>ash</th>\n",
              "      <th>alcalinity_of_ash</th>\n",
              "      <th>magnesium</th>\n",
              "      <th>total_phenols</th>\n",
              "      <th>flavanoids</th>\n",
              "      <th>nonflavanoid_phenols</th>\n",
              "      <th>proanthocyanins</th>\n",
              "      <th>color_intensity</th>\n",
              "      <th>hue</th>\n",
              "      <th>od280/od315_of_diluted_wines</th>\n",
              "      <th>proline</th>\n",
              "      <th>class</th>\n",
              "    </tr>\n",
              "  </thead>\n",
              "  <tbody>\n",
              "    <tr>\n",
              "      <th>0</th>\n",
              "      <td>14.23</td>\n",
              "      <td>1.71</td>\n",
              "      <td>2.43</td>\n",
              "      <td>15.6</td>\n",
              "      <td>127.0</td>\n",
              "      <td>2.80</td>\n",
              "      <td>3.06</td>\n",
              "      <td>0.28</td>\n",
              "      <td>2.29</td>\n",
              "      <td>5.64</td>\n",
              "      <td>1.04</td>\n",
              "      <td>3.92</td>\n",
              "      <td>1065.0</td>\n",
              "      <td>class_0</td>\n",
              "    </tr>\n",
              "    <tr>\n",
              "      <th>1</th>\n",
              "      <td>13.20</td>\n",
              "      <td>1.78</td>\n",
              "      <td>2.14</td>\n",
              "      <td>11.2</td>\n",
              "      <td>100.0</td>\n",
              "      <td>2.65</td>\n",
              "      <td>2.76</td>\n",
              "      <td>0.26</td>\n",
              "      <td>1.28</td>\n",
              "      <td>4.38</td>\n",
              "      <td>1.05</td>\n",
              "      <td>3.40</td>\n",
              "      <td>1050.0</td>\n",
              "      <td>class_0</td>\n",
              "    </tr>\n",
              "    <tr>\n",
              "      <th>2</th>\n",
              "      <td>13.16</td>\n",
              "      <td>2.36</td>\n",
              "      <td>2.67</td>\n",
              "      <td>18.6</td>\n",
              "      <td>101.0</td>\n",
              "      <td>2.80</td>\n",
              "      <td>3.24</td>\n",
              "      <td>0.30</td>\n",
              "      <td>2.81</td>\n",
              "      <td>5.68</td>\n",
              "      <td>1.03</td>\n",
              "      <td>3.17</td>\n",
              "      <td>1185.0</td>\n",
              "      <td>class_0</td>\n",
              "    </tr>\n",
              "    <tr>\n",
              "      <th>3</th>\n",
              "      <td>14.37</td>\n",
              "      <td>1.95</td>\n",
              "      <td>2.50</td>\n",
              "      <td>16.8</td>\n",
              "      <td>113.0</td>\n",
              "      <td>3.85</td>\n",
              "      <td>3.49</td>\n",
              "      <td>0.24</td>\n",
              "      <td>2.18</td>\n",
              "      <td>7.80</td>\n",
              "      <td>0.86</td>\n",
              "      <td>3.45</td>\n",
              "      <td>1480.0</td>\n",
              "      <td>class_0</td>\n",
              "    </tr>\n",
              "    <tr>\n",
              "      <th>4</th>\n",
              "      <td>13.24</td>\n",
              "      <td>2.59</td>\n",
              "      <td>2.87</td>\n",
              "      <td>21.0</td>\n",
              "      <td>118.0</td>\n",
              "      <td>2.80</td>\n",
              "      <td>2.69</td>\n",
              "      <td>0.39</td>\n",
              "      <td>1.82</td>\n",
              "      <td>4.32</td>\n",
              "      <td>1.04</td>\n",
              "      <td>2.93</td>\n",
              "      <td>735.0</td>\n",
              "      <td>class_0</td>\n",
              "    </tr>\n",
              "    <tr>\n",
              "      <th>...</th>\n",
              "      <td>...</td>\n",
              "      <td>...</td>\n",
              "      <td>...</td>\n",
              "      <td>...</td>\n",
              "      <td>...</td>\n",
              "      <td>...</td>\n",
              "      <td>...</td>\n",
              "      <td>...</td>\n",
              "      <td>...</td>\n",
              "      <td>...</td>\n",
              "      <td>...</td>\n",
              "      <td>...</td>\n",
              "      <td>...</td>\n",
              "      <td>...</td>\n",
              "    </tr>\n",
              "    <tr>\n",
              "      <th>173</th>\n",
              "      <td>13.71</td>\n",
              "      <td>5.65</td>\n",
              "      <td>2.45</td>\n",
              "      <td>20.5</td>\n",
              "      <td>95.0</td>\n",
              "      <td>1.68</td>\n",
              "      <td>0.61</td>\n",
              "      <td>0.52</td>\n",
              "      <td>1.06</td>\n",
              "      <td>7.70</td>\n",
              "      <td>0.64</td>\n",
              "      <td>1.74</td>\n",
              "      <td>740.0</td>\n",
              "      <td>class_2</td>\n",
              "    </tr>\n",
              "    <tr>\n",
              "      <th>174</th>\n",
              "      <td>13.40</td>\n",
              "      <td>3.91</td>\n",
              "      <td>2.48</td>\n",
              "      <td>23.0</td>\n",
              "      <td>102.0</td>\n",
              "      <td>1.80</td>\n",
              "      <td>0.75</td>\n",
              "      <td>0.43</td>\n",
              "      <td>1.41</td>\n",
              "      <td>7.30</td>\n",
              "      <td>0.70</td>\n",
              "      <td>1.56</td>\n",
              "      <td>750.0</td>\n",
              "      <td>class_2</td>\n",
              "    </tr>\n",
              "    <tr>\n",
              "      <th>175</th>\n",
              "      <td>13.27</td>\n",
              "      <td>4.28</td>\n",
              "      <td>2.26</td>\n",
              "      <td>20.0</td>\n",
              "      <td>120.0</td>\n",
              "      <td>1.59</td>\n",
              "      <td>0.69</td>\n",
              "      <td>0.43</td>\n",
              "      <td>1.35</td>\n",
              "      <td>10.20</td>\n",
              "      <td>0.59</td>\n",
              "      <td>1.56</td>\n",
              "      <td>835.0</td>\n",
              "      <td>class_2</td>\n",
              "    </tr>\n",
              "    <tr>\n",
              "      <th>176</th>\n",
              "      <td>13.17</td>\n",
              "      <td>2.59</td>\n",
              "      <td>2.37</td>\n",
              "      <td>20.0</td>\n",
              "      <td>120.0</td>\n",
              "      <td>1.65</td>\n",
              "      <td>0.68</td>\n",
              "      <td>0.53</td>\n",
              "      <td>1.46</td>\n",
              "      <td>9.30</td>\n",
              "      <td>0.60</td>\n",
              "      <td>1.62</td>\n",
              "      <td>840.0</td>\n",
              "      <td>class_2</td>\n",
              "    </tr>\n",
              "    <tr>\n",
              "      <th>177</th>\n",
              "      <td>14.13</td>\n",
              "      <td>4.10</td>\n",
              "      <td>2.74</td>\n",
              "      <td>24.5</td>\n",
              "      <td>96.0</td>\n",
              "      <td>2.05</td>\n",
              "      <td>0.76</td>\n",
              "      <td>0.56</td>\n",
              "      <td>1.35</td>\n",
              "      <td>9.20</td>\n",
              "      <td>0.61</td>\n",
              "      <td>1.60</td>\n",
              "      <td>560.0</td>\n",
              "      <td>class_2</td>\n",
              "    </tr>\n",
              "  </tbody>\n",
              "</table>\n",
              "<p>178 rows × 14 columns</p>\n",
              "</div>"
            ],
            "text/plain": [
              "     alcohol  malic_acid   ash  alcalinity_of_ash  magnesium  total_phenols  \\\n",
              "0      14.23        1.71  2.43               15.6      127.0           2.80   \n",
              "1      13.20        1.78  2.14               11.2      100.0           2.65   \n",
              "2      13.16        2.36  2.67               18.6      101.0           2.80   \n",
              "3      14.37        1.95  2.50               16.8      113.0           3.85   \n",
              "4      13.24        2.59  2.87               21.0      118.0           2.80   \n",
              "..       ...         ...   ...                ...        ...            ...   \n",
              "173    13.71        5.65  2.45               20.5       95.0           1.68   \n",
              "174    13.40        3.91  2.48               23.0      102.0           1.80   \n",
              "175    13.27        4.28  2.26               20.0      120.0           1.59   \n",
              "176    13.17        2.59  2.37               20.0      120.0           1.65   \n",
              "177    14.13        4.10  2.74               24.5       96.0           2.05   \n",
              "\n",
              "     flavanoids  nonflavanoid_phenols  proanthocyanins  color_intensity   hue  \\\n",
              "0          3.06                  0.28             2.29             5.64  1.04   \n",
              "1          2.76                  0.26             1.28             4.38  1.05   \n",
              "2          3.24                  0.30             2.81             5.68  1.03   \n",
              "3          3.49                  0.24             2.18             7.80  0.86   \n",
              "4          2.69                  0.39             1.82             4.32  1.04   \n",
              "..          ...                   ...              ...              ...   ...   \n",
              "173        0.61                  0.52             1.06             7.70  0.64   \n",
              "174        0.75                  0.43             1.41             7.30  0.70   \n",
              "175        0.69                  0.43             1.35            10.20  0.59   \n",
              "176        0.68                  0.53             1.46             9.30  0.60   \n",
              "177        0.76                  0.56             1.35             9.20  0.61   \n",
              "\n",
              "     od280/od315_of_diluted_wines  proline    class  \n",
              "0                            3.92   1065.0  class_0  \n",
              "1                            3.40   1050.0  class_0  \n",
              "2                            3.17   1185.0  class_0  \n",
              "3                            3.45   1480.0  class_0  \n",
              "4                            2.93    735.0  class_0  \n",
              "..                            ...      ...      ...  \n",
              "173                          1.74    740.0  class_2  \n",
              "174                          1.56    750.0  class_2  \n",
              "175                          1.56    835.0  class_2  \n",
              "176                          1.62    840.0  class_2  \n",
              "177                          1.60    560.0  class_2  \n",
              "\n",
              "[178 rows x 14 columns]"
            ]
          },
          "execution_count": 13,
          "metadata": {},
          "output_type": "execute_result"
        }
      ],
      "source": [
        "wineDataFrame"
      ]
    },
    {
      "cell_type": "markdown",
      "id": "8708c8b0",
      "metadata": {
        "id": "8708c8b0"
      },
      "source": [
        "# let’s create feature vector for every class and store it in a variable named “between_class_feature_means”"
      ]
    },
    {
      "cell_type": "code",
      "execution_count": null,
      "id": "faee1d8a",
      "metadata": {
        "id": "faee1d8a",
        "outputId": "9d887da2-96be-4e42-f507-abd31daa8054"
      },
      "outputs": [
        {
          "name": "stderr",
          "output_type": "stream",
          "text": [
            "/var/folders/lv/lrv6gpfd5l550w3079dzc5480000gn/T/ipykernel_65017/3816033505.py:3: FutureWarning: Dropping of nuisance columns in DataFrame reductions (with 'numeric_only=None') is deprecated; in a future version this will raise TypeError.  Select only valid columns before calling the reduction.\n",
            "  between_class_feature_means[c] = rows.mean()\n"
          ]
        },
        {
          "data": {
            "text/html": [
              "<div>\n",
              "<style scoped>\n",
              "    .dataframe tbody tr th:only-of-type {\n",
              "        vertical-align: middle;\n",
              "    }\n",
              "\n",
              "    .dataframe tbody tr th {\n",
              "        vertical-align: top;\n",
              "    }\n",
              "\n",
              "    .dataframe thead th {\n",
              "        text-align: right;\n",
              "    }\n",
              "</style>\n",
              "<table border=\"1\" class=\"dataframe\">\n",
              "  <thead>\n",
              "    <tr style=\"text-align: right;\">\n",
              "      <th></th>\n",
              "      <th>class_0</th>\n",
              "      <th>class_1</th>\n",
              "      <th>class_2</th>\n",
              "    </tr>\n",
              "  </thead>\n",
              "  <tbody>\n",
              "    <tr>\n",
              "      <th>alcohol</th>\n",
              "      <td>13.744746</td>\n",
              "      <td>12.278732</td>\n",
              "      <td>13.153750</td>\n",
              "    </tr>\n",
              "    <tr>\n",
              "      <th>malic_acid</th>\n",
              "      <td>2.010678</td>\n",
              "      <td>1.932676</td>\n",
              "      <td>3.333750</td>\n",
              "    </tr>\n",
              "    <tr>\n",
              "      <th>ash</th>\n",
              "      <td>2.455593</td>\n",
              "      <td>2.244789</td>\n",
              "      <td>2.437083</td>\n",
              "    </tr>\n",
              "    <tr>\n",
              "      <th>alcalinity_of_ash</th>\n",
              "      <td>17.037288</td>\n",
              "      <td>20.238028</td>\n",
              "      <td>21.416667</td>\n",
              "    </tr>\n",
              "    <tr>\n",
              "      <th>magnesium</th>\n",
              "      <td>106.338983</td>\n",
              "      <td>94.549296</td>\n",
              "      <td>99.312500</td>\n",
              "    </tr>\n",
              "    <tr>\n",
              "      <th>total_phenols</th>\n",
              "      <td>2.840169</td>\n",
              "      <td>2.258873</td>\n",
              "      <td>1.678750</td>\n",
              "    </tr>\n",
              "    <tr>\n",
              "      <th>flavanoids</th>\n",
              "      <td>2.982373</td>\n",
              "      <td>2.080845</td>\n",
              "      <td>0.781458</td>\n",
              "    </tr>\n",
              "    <tr>\n",
              "      <th>nonflavanoid_phenols</th>\n",
              "      <td>0.290000</td>\n",
              "      <td>0.363662</td>\n",
              "      <td>0.447500</td>\n",
              "    </tr>\n",
              "    <tr>\n",
              "      <th>proanthocyanins</th>\n",
              "      <td>1.899322</td>\n",
              "      <td>1.630282</td>\n",
              "      <td>1.153542</td>\n",
              "    </tr>\n",
              "    <tr>\n",
              "      <th>color_intensity</th>\n",
              "      <td>5.528305</td>\n",
              "      <td>3.086620</td>\n",
              "      <td>7.396250</td>\n",
              "    </tr>\n",
              "    <tr>\n",
              "      <th>hue</th>\n",
              "      <td>1.062034</td>\n",
              "      <td>1.056282</td>\n",
              "      <td>0.682708</td>\n",
              "    </tr>\n",
              "    <tr>\n",
              "      <th>od280/od315_of_diluted_wines</th>\n",
              "      <td>3.157797</td>\n",
              "      <td>2.785352</td>\n",
              "      <td>1.683542</td>\n",
              "    </tr>\n",
              "    <tr>\n",
              "      <th>proline</th>\n",
              "      <td>1115.711864</td>\n",
              "      <td>519.507042</td>\n",
              "      <td>629.895833</td>\n",
              "    </tr>\n",
              "  </tbody>\n",
              "</table>\n",
              "</div>"
            ],
            "text/plain": [
              "                                  class_0     class_1     class_2\n",
              "alcohol                         13.744746   12.278732   13.153750\n",
              "malic_acid                       2.010678    1.932676    3.333750\n",
              "ash                              2.455593    2.244789    2.437083\n",
              "alcalinity_of_ash               17.037288   20.238028   21.416667\n",
              "magnesium                      106.338983   94.549296   99.312500\n",
              "total_phenols                    2.840169    2.258873    1.678750\n",
              "flavanoids                       2.982373    2.080845    0.781458\n",
              "nonflavanoid_phenols             0.290000    0.363662    0.447500\n",
              "proanthocyanins                  1.899322    1.630282    1.153542\n",
              "color_intensity                  5.528305    3.086620    7.396250\n",
              "hue                              1.062034    1.056282    0.682708\n",
              "od280/od315_of_diluted_wines     3.157797    2.785352    1.683542\n",
              "proline                       1115.711864  519.507042  629.895833"
            ]
          },
          "execution_count": 17,
          "metadata": {},
          "output_type": "execute_result"
        }
      ],
      "source": [
        "between_class_feature_means= pd.DataFrame(columns=winedataset.target_names)\n",
        "for c, rows in wineDataFrame.groupby ('class') :\n",
        "    between_class_feature_means[c] = rows.mean()\n",
        "between_class_feature_means"
      ]
    },
    {
      "cell_type": "markdown",
      "id": "b2d7e92c",
      "metadata": {
        "id": "b2d7e92c"
      },
      "source": [
        "# Now, let’s  add the mean  into the “between_class_feature_means” to get  within the class scatter matrix.  "
      ]
    },
    {
      "cell_type": "code",
      "execution_count": null,
      "id": "7ca48aae",
      "metadata": {
        "id": "7ca48aae",
        "outputId": "42b88fae-8a80-4546-f21a-b5ad368b267b"
      },
      "outputs": [
        {
          "name": "stderr",
          "output_type": "stream",
          "text": [
            "/var/folders/lv/lrv6gpfd5l550w3079dzc5480000gn/T/ipykernel_65017/4025758509.py:10: FutureWarning: Dropping of nuisance columns in DataFrame reductions (with 'numeric_only=None') is deprecated; in a future version this will raise TypeError.  Select only valid columns before calling the reduction.\n",
            "  feature_means = wineDataFrame.mean()\n"
          ]
        },
        {
          "data": {
            "text/plain": [
              "array([[ 1.12557198e+00,  7.33123859e+00,  5.18687410e-01,\n",
              "         1.41253107e+01, -3.15383143e+00, -4.53047111e+00,\n",
              "        -9.17183388e+00,  6.29527465e-01, -3.21472292e+00,\n",
              "         1.71862649e+01, -2.01943973e+00, -6.82216925e+00,\n",
              "        -8.59970512e+02],\n",
              "       [ 7.33123859e+00,  4.77508859e+01,  3.37839002e+00,\n",
              "         9.20030211e+01, -2.05419920e+01, -2.95085211e+01,\n",
              "        -5.97393179e+01,  4.10032954e+00, -2.09385993e+01,\n",
              "         1.11940071e+02, -1.31533076e+01, -4.44351416e+01,\n",
              "        -5.60128459e+03],\n",
              "       [ 5.18687410e-01,  3.37839002e+00,  2.39022145e-01,\n",
              "         6.50924235e+00, -1.45335232e+00, -2.08773704e+00,\n",
              "        -4.22657532e+00,  2.90099590e-01, -1.48141241e+00,\n",
              "         7.91979486e+00, -9.30600601e-01, -3.14380009e+00,\n",
              "        -3.96292627e+02],\n",
              "       [ 1.41253107e+01,  9.20030211e+01,  6.50924235e+00,\n",
              "         1.77264898e+02, -3.95788537e+01, -5.68549261e+01,\n",
              "        -1.15101482e+02,  7.90022421e+00, -4.03430084e+01,\n",
              "         2.15678193e+02, -2.53428604e+01, -8.56144802e+01,\n",
              "        -1.07921580e+04],\n",
              "       [-3.15383143e+00, -2.05419920e+01, -1.45335232e+00,\n",
              "        -3.95788537e+01,  8.83697608e+00,  1.26942944e+01,\n",
              "         2.56993052e+01, -1.76392406e+00,  9.00759287e+00,\n",
              "        -4.81555894e+01,  5.65843197e+00,  1.91155893e+01,\n",
              "         2.40962113e+03],\n",
              "       [-4.53047111e+00, -2.95085211e+01, -2.08773704e+00,\n",
              "        -5.68549261e+01,  1.26942944e+01,  1.82353228e+01,\n",
              "         3.69169889e+01, -2.53387259e+00,  1.29393850e+01,\n",
              "        -6.91753860e+01,  8.12832363e+00,  2.74594972e+01,\n",
              "         3.46141483e+03],\n",
              "       [-9.17183388e+00, -5.97393179e+01, -4.22657532e+00,\n",
              "        -1.15101482e+02,  2.56993052e+01,  3.69169889e+01,\n",
              "         7.47375895e+01, -5.12976640e+00,  2.61954855e+01,\n",
              "        -1.40043968e+02,  1.64556030e+01,  5.55911164e+01,\n",
              "         7.00755420e+03],\n",
              "       [ 6.29527465e-01,  4.10032954e+00,  2.90099590e-01,\n",
              "         7.90022421e+00, -1.76392406e+00, -2.53387259e+00,\n",
              "        -5.12976640e+00,  3.52091945e-01, -1.79798040e+00,\n",
              "         9.61220243e+00, -1.12946377e+00, -3.81560929e+00,\n",
              "        -4.80977729e+02],\n",
              "       [-3.21472292e+00, -2.09385993e+01, -1.48141241e+00,\n",
              "        -4.03430084e+01,  9.00759287e+00,  1.29393850e+01,\n",
              "         2.61954855e+01, -1.79798040e+00,  9.18150379e+00,\n",
              "        -4.90853364e+01,  5.76768015e+00,  1.94846568e+01,\n",
              "         2.45614403e+03],\n",
              "       [ 1.71862649e+01,  1.11940071e+02,  7.91979486e+00,\n",
              "         2.15678193e+02, -4.81555894e+01, -6.91753860e+01,\n",
              "        -1.40043968e+02,  9.61220243e+00, -4.90853364e+01,\n",
              "         2.62415647e+02, -3.08346570e+01, -1.04167134e+02,\n",
              "        -1.31308181e+04],\n",
              "       [-2.01943973e+00, -1.31533076e+01, -9.30600601e-01,\n",
              "        -2.53428604e+01,  5.65843197e+00,  8.12832363e+00,\n",
              "         1.64556030e+01, -1.12946377e+00,  5.76768015e+00,\n",
              "        -3.08346570e+01,  3.62316839e+00,  1.22399632e+01,\n",
              "         1.54291209e+03],\n",
              "       [-6.82216925e+00, -4.44351416e+01, -3.14380009e+00,\n",
              "        -8.56144802e+01,  1.91155893e+01,  2.74594972e+01,\n",
              "         5.55911164e+01, -3.81560929e+00,  1.94846568e+01,\n",
              "        -1.04167134e+02,  1.22399632e+01,  4.13496373e+01,\n",
              "         5.21234045e+03],\n",
              "       [-8.59970512e+02, -5.60128459e+03, -3.96292627e+02,\n",
              "        -1.07921580e+04,  2.40962113e+03,  3.46141483e+03,\n",
              "         7.00755420e+03, -4.80977729e+02,  2.45614403e+03,\n",
              "        -1.31308181e+04,  1.54291209e+03,  5.21234045e+03,\n",
              "         6.57043079e+05]])"
            ]
          },
          "execution_count": 48,
          "metadata": {},
          "output_type": "execute_result"
        }
      ],
      "source": [
        "within_class_scatter_matrix = np.zeros((13,13))\n",
        "for C, rows in wineDataFrame.groupby(\"class\"):\n",
        "    rows = rows.drop (['class'], axis=1)\n",
        "    s = np.zeros( (13,13) )\n",
        "for index, row in rows.iterrows():\n",
        "    x, mc = row.values.reshape(13,1), between_class_feature_means[c].values.reshape(13,1)\n",
        "    s += (x - mc).dot((x - mc).T)\n",
        "within_class_scatter_matrix += s\n",
        "\n",
        "feature_means = wineDataFrame.mean()\n",
        "between_class_scatter_matrix= np.zeros((13,13))\n",
        "\n",
        "for c in between_class_feature_means:\n",
        "    n = len(wineDataFrame.loc[wineDataFrame['class']==c].index)\n",
        "mc, m = between_class_feature_means[c].values.reshape(13,1), feature_means.values.reshape(13,1)\n",
        "between_class_scatter_matrix += n * (mc- m).dot ((mc - m).T)\n",
        "between_class_scatter_matrix"
      ]
    },
    {
      "cell_type": "markdown",
      "id": "ab31fdd5",
      "metadata": {
        "id": "ab31fdd5"
      },
      "source": [
        "# Now, let’s  try to get the  linear discriminants value by computing\n",
        "\n",
        "![image-2.png](attachment:image-2.png)\n"
      ]
    },
    {
      "cell_type": "code",
      "execution_count": null,
      "id": "ae4278c2",
      "metadata": {
        "id": "ae4278c2"
      },
      "outputs": [],
      "source": [
        "eig_values, eig_vectors= np.linalg.eig(np.linalg.inv(within_class_scatter_matrix).dot(between_class_scatter_matrix))"
      ]
    },
    {
      "cell_type": "markdown",
      "id": "68d42742",
      "metadata": {
        "id": "68d42742"
      },
      "source": [
        "The eigenvectors with the highest eigenvalues carry the most information about the distribution of the data. Now, since we have got the eigenvalues and eigenvector, let’s sort the eigenvalues from highest to lowest and select the first k eigenvectors.\n",
        "\n",
        "In order to ensure that the eigenvalue maps to the same eigenvector after sorting, we place them in a temporary array."
      ]
    },
    {
      "cell_type": "code",
      "execution_count": null,
      "id": "8df599fb",
      "metadata": {
        "id": "8df599fb",
        "outputId": "34d624a9-600b-44d6-f1e7-9af4e5159472"
      },
      "outputs": [
        {
          "name": "stdout",
          "output_type": "stream",
          "text": [
            "138.32431936545427\n",
            "2.842170943040401e-14\n",
            "1.0418019066656222e-14\n",
            "8.172378460083773e-15\n",
            "7.781065426813201e-15\n",
            "7.781065426813201e-15\n",
            "5.397976878090743e-15\n",
            "2.6327803189067063e-15\n",
            "2.6327803189067063e-15\n",
            "2.0970425075722906e-15\n",
            "5.768562136539767e-16\n",
            "5.768562136539767e-16\n",
            "7.604530749336805e-17\n"
          ]
        }
      ],
      "source": [
        "pairs = [(np.abs (eig_values[i]), eig_vectors[:,i]) for i in range(len(eig_values))]\n",
        "pairs = sorted(pairs, key=lambda x: x[0], reverse=True)\n",
        "for pair in pairs:\n",
        "    print (pair[0])"
      ]
    },
    {
      "cell_type": "markdown",
      "id": "39d1b72a",
      "metadata": {
        "id": "39d1b72a"
      },
      "source": [
        "By just looking at the values obtained above it is difficult to determine variance explained by each component. Thus, let’s express it as a percentage."
      ]
    },
    {
      "cell_type": "code",
      "execution_count": null,
      "id": "c9d1d979",
      "metadata": {
        "id": "c9d1d979",
        "outputId": "320b5944-6b57-44f5-b0bc-ff329c2f3ecc"
      },
      "outputs": [
        {
          "name": "stdout",
          "output_type": "stream",
          "text": [
            "Explained Variance\n",
            "Eigenvector 0: 0.9999999999999998\n",
            "Eigenvector 1: 2.0547152923495363e-16\n",
            "Eigenvector 2: 7.531588887946526e-17\n",
            "Eigenvector 3: 5.908128445940344e-17\n",
            "Eigenvector 4: 5.625233120616733e-17\n",
            "Eigenvector 5: 5.625233120616733e-17\n",
            "Eigenvector 6: 3.9024062455924553e-17\n",
            "Eigenvector 7: 1.9033387122266425e-17\n",
            "Eigenvector 8: 1.9033387122266425e-17\n",
            "Eigenvector 9: 1.5160331293818855e-17\n",
            "Eigenvector 10: 4.170316660875204e-18\n",
            "Eigenvector 11: 4.170316660875204e-18\n",
            "Eigenvector 12: 5.497609374997577e-19\n"
          ]
        }
      ],
      "source": [
        "eigen_value_sums= sum(eig_values)\n",
        "print('Explained Variance')\n",
        "for i, pair in enumerate (pairs):\n",
        "    print ('Eigenvector {}: {}'.format(i,(pair[0]/eigen_value_sums).real))"
      ]
    },
    {
      "cell_type": "markdown",
      "id": "555d662c",
      "metadata": {
        "id": "555d662c"
      },
      "source": [
        " Now, let’s formulate our linear function for the new feature space.\n",
        "\n",
        "y=X.W\n",
        "\n",
        "where X is a n×d matrix with n samples and d dimensions, and “y” is a n×k matrix with n samples and k ( k<n) dimensions. In other words, Y is composed of the LDA components (the new feature space)."
      ]
    },
    {
      "cell_type": "code",
      "execution_count": null,
      "id": "b0d22bd3",
      "metadata": {
        "id": "b0d22bd3"
      },
      "outputs": [],
      "source": [
        "#First, let's create a matrix W with the first two eigenvectors.\n",
        "matrix_w = np.hstack((pairs[0][1].reshape(13,1), pairs[1][1].reshape(13,1))).real\n",
        "x_lda = np.array(independentVariables.dot(matrix_w))"
      ]
    },
    {
      "cell_type": "markdown",
      "id": "cbedd032",
      "metadata": {
        "id": "cbedd032"
      },
      "source": [
        "Since, matplotlib cannot handle categorical variables directly and hence let’s encode them. Every class type will now be represented as a number. "
      ]
    },
    {
      "cell_type": "code",
      "execution_count": null,
      "id": "f78bb170",
      "metadata": {
        "id": "f78bb170"
      },
      "outputs": [],
      "source": [
        "le = LabelEncoder()\n",
        "y= le.fit_transform(wineDataFrame['class'])"
      ]
    },
    {
      "cell_type": "markdown",
      "id": "8c24f157",
      "metadata": {
        "id": "8c24f157"
      },
      "source": [
        "Final, let’s now plot the data as a function of the two LDA components"
      ]
    },
    {
      "cell_type": "code",
      "execution_count": null,
      "id": "e16484ef",
      "metadata": {
        "id": "e16484ef",
        "outputId": "e86015e3-69a7-4b8d-9efd-d1ba01565694"
      },
      "outputs": [
        {
          "data": {
            "text/plain": [
              "<matplotlib.collections.PathCollection at 0x7f8f2cfcea60>"
            ]
          },
          "execution_count": 65,
          "metadata": {},
          "output_type": "execute_result"
        },
        {
          "data": {
            "image/png": "[encoded data removed]",
            "text/plain": [
              "<Figure size 432x288 with 1 Axes>"
            ]
          },
          "metadata": {
            "needs_background": "light"
          },
          "output_type": "display_data"
        }
      ],
      "source": [
        "plt.xlabel ('LD1')\n",
        "plt.ylabel ( 'LD2')\n",
        "plt.scatter(x_lda[:,0],x_lda[:,1], c=y,cmap= 'rainbow', alpha=0.7,edgecolors='b')"
      ]
    },
    {
      "cell_type": "markdown",
      "id": "07187d76",
      "metadata": {
        "id": "07187d76"
      },
      "source": [
        "In the above plot we can clearly see the separation between all the three classes"
      ]
    },
    {
      "cell_type": "markdown",
      "id": "82a34d94",
      "metadata": {
        "id": "82a34d94"
      },
      "source": [
        "# Linear Discriminant Analysis implementation leveraging scikit-learn library"
      ]
    },
    {
      "cell_type": "code",
      "execution_count": null,
      "id": "43e37b03",
      "metadata": {
        "id": "43e37b03"
      },
      "outputs": [],
      "source": [
        "from sklearn.discriminant_analysis import LinearDiscriminantAnalysis\n",
        "sk_lda = LinearDiscriminantAnalysis()\n",
        "x_lda= sk_lda.fit_transform(independentVariables,dependentVariable)"
      ]
    },
    {
      "cell_type": "code",
      "execution_count": null,
      "id": "cca06081",
      "metadata": {
        "id": "cca06081",
        "outputId": "1c653995-a017-4fbe-8af8-7801113ac591"
      },
      "outputs": [
        {
          "data": {
            "text/plain": [
              "array([0.68747889, 0.31252111])"
            ]
          },
          "execution_count": 68,
          "metadata": {},
          "output_type": "execute_result"
        }
      ],
      "source": [
        "#we can access the following property to obtain the variance explained by each component.\n",
        "sk_lda.explained_variance_ratio_"
      ]
    },
    {
      "cell_type": "markdown",
      "id": "74dd1b74",
      "metadata": {
        "id": "74dd1b74"
      },
      "source": [
        "From above output we could see that the LDA#1 covers 68.74% of total variance and LDA#2 covers 31.2% of total remaining variance.\n",
        "\n",
        "Now, let’s visualize the output of Sklearn implementation"
      ]
    },
    {
      "cell_type": "code",
      "execution_count": null,
      "id": "7edc2a99",
      "metadata": {
        "id": "7edc2a99",
        "outputId": "41cd2324-c2ed-4ba3-a766-1e79851ffb9c"
      },
      "outputs": [
        {
          "data": {
            "text/plain": [
              "<matplotlib.collections.PathCollection at 0x7f8f2cfb8310>"
            ]
          },
          "execution_count": 73,
          "metadata": {},
          "output_type": "execute_result"
        },
        {
          "data": {
            "image/png": "[encoded data removed]",
            "text/plain": [
              "<Figure size 432x288 with 1 Axes>"
            ]
          },
          "metadata": {
            "needs_background": "light"
          },
          "output_type": "display_data"
        }
      ],
      "source": [
        "#Just like before, we plot the two LDA components\n",
        "plt.xlabel('LD1')\n",
        "plt.ylabel('LD2')\n",
        "plt.scatter(x_lda[:,0], x_lda[:,1], c=y,cmap='rainbow',alpha=0.7, edgecolors='b')"
      ]
    },
    {
      "cell_type": "code",
      "execution_count": null,
      "id": "f3f9cc0d",
      "metadata": {
        "id": "f3f9cc0d"
      },
      "outputs": [],
      "source": []
    }
  ],
  "metadata": {
    "kernelspec": {
      "display_name": "Python 3 (ipykernel)",
      "language": "python",
      "name": "python3"
    },
    "language_info": {
      "codemirror_mode": {
        "name": "ipython",
        "version": 3
      },
      "file_extension": ".py",
      "mimetype": "text/x-python",
      "name": "python",
      "nbconvert_exporter": "python",
      "pygments_lexer": "ipython3",
      "version": "3.9.7"
    },
    "colab": {
      "provenance": [],
      "include_colab_link": true
    }
  },
  "nbformat": 4,
  "nbformat_minor": 5
}